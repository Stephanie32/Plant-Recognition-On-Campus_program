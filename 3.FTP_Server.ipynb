{
 "cells": [
  {
   "cell_type": "code",
   "execution_count": 1,
   "metadata": {},
   "outputs": [],
   "source": [
    "#Using pyftpdlib to create server\n",
    "import socket\n",
    "import os\n",
    "import time\n",
    "from PIL import Image\n",
    "import numpy as np\n",
    "from pyftpdlib.authorizers import DummyAuthorizer\n",
    "from pyftpdlib.handlers import FTPHandler\n",
    "from pyftpdlib.servers import FTPServer"
   ]
  },
  {
   "cell_type": "code",
   "execution_count": 2,
   "metadata": {},
   "outputs": [],
   "source": [
    "def getIP():\n",
    "    myname = socket.getfqdn(socket.gethostname())\n",
    "    get_s = socket.socket(socket.AF_INET, socket.SOCK_DGRAM)\n",
    "    get_s.connect(('8.8.8.8', 0))\n",
    "    ip = get_s.getsockname()[0]\n",
    "    return ip"
   ]
  },
  {
   "cell_type": "code",
   "execution_count": 3,
   "metadata": {},
   "outputs": [],
   "source": [
    "IP = getIP()"
   ]
  },
  {
   "cell_type": "code",
   "execution_count": null,
   "metadata": {},
   "outputs": [
    {
     "name": "stderr",
     "output_type": "stream",
     "text": [
      "Using TensorFlow backend.\n"
     ]
    }
   ],
   "source": [
    "from keras.models import load_model\n",
    "model =load_model('model_01.h5')"
   ]
  },
  {
   "cell_type": "code",
   "execution_count": null,
   "metadata": {},
   "outputs": [],
   "source": [
    "def EvaluateImage(file):\n",
    "    #100*100\n",
    "    ima = Image.open(file);\n",
    "    ima = ima.resize((100, 100))\n",
    "    \n",
    "    r2 = 100 \n",
    "    imb = Image.new('RGB', (r2, r2),(0))\n",
    "    pima = ima.load()\n",
    "    pimb = imb.load()\n",
    "    r = float(r2/2) \n",
    "    for i in range(r2):\n",
    "        for j in range(r2):\n",
    "            lx = abs(i-r+0.5) \n",
    "            ly = abs(j-r+0.5) \n",
    "            l  = pow(lx,2) + pow(ly,2)\n",
    "            if l <= pow(r, 2):\n",
    "                    pimb[i,j] = pima[i,j]\n",
    "                    \n",
    "    arr = np.asarray(imb, dtype = np.float32)\n",
    "    arr_flo = arr/255\n",
    "    x_test = arr_flo.reshape(1,100,100,3)\n",
    "    \n",
    "    probility = model.predict(x_test)\n",
    "    probility=probility.reshape(18)\n",
    "    \n",
    "    max_label=0\n",
    "    for j in range(1,18):\n",
    "        if probility[j] > probility[max_label]:\n",
    "            max_label = j\n",
    "    \n",
    "    result = str(max_label)\n",
    "    f=open(file + \".txt\", 'w')\n",
    "    for i in range(0,len(result)):\n",
    "        if result[i] >= '0' and result[i] <= '9':\n",
    "            f.write(result[i])\n",
    "        else:\n",
    "            break\n",
    "    f.close()\n",
    "    del ima, imb, x_test, probility, result"
   ]
  },
  {
   "cell_type": "code",
   "execution_count": null,
   "metadata": {},
   "outputs": [],
   "source": [
    "class MyHandler(FTPHandler):\n",
    "\n",
    "    def on_connect(self):\n",
    "        print (\"%s:%s connected\" % (self.remote_ip, self.remote_port))\n",
    "        pass\n",
    "\n",
    "    def on_disconnect(self):\n",
    "        # do something when client disconnects\n",
    "        pass\n",
    "\n",
    "    def on_login(self, username):\n",
    "        # do something when user login\n",
    "        pass\n",
    "\n",
    "    def on_logout(self, username):\n",
    "        # do something when user logs out\n",
    "        pass\n",
    "\n",
    "    def on_file_sent(self, file):\n",
    "        # do something when a file has been sent\n",
    "        pass\n",
    "\n",
    "    def on_file_received(self, file):\n",
    "        # do something when a file has been received\n",
    "        EvaluateImage(file)\n",
    "        pass\n",
    "\n",
    "    def on_incomplete_file_sent(self, file):\n",
    "        # do something when a file is partially sent\n",
    "        pass\n",
    "\n",
    "    def on_incomplete_file_received(self, file):\n",
    "        # remove partially uploaded files\n",
    "        import os\n",
    "        os.remove(file)"
   ]
  },
  {
   "cell_type": "code",
   "execution_count": null,
   "metadata": {},
   "outputs": [],
   "source": [
    "def main():\n",
    "    # Instantiate a dummy authorizer for managing 'virtual' users\n",
    "    authorizer = DummyAuthorizer()\n",
    "\n",
    "    # Define a new user having full r/w permissions and a read-only\n",
    "    # anonymous user\n",
    "    authorizer.add_user('userf', 'f12345', '/FTP/flower', perm='elradfmwMT')\n",
    "    authorizer.add_anonymous('/FTP/anonymous')\n",
    "\n",
    "    # Instantiate FTP handler class\n",
    "    handler = MyHandler\n",
    "    handler.authorizer = authorizer\n",
    "\n",
    "    # Define a customized banner (string returned when client connects)\n",
    "    #handler.banner = \"pyftpdlib based ftpd ready.\"\n",
    "\n",
    "    # Specify a masquerade address and the range of ports to use for\n",
    "    # passive connections.  Decomment in case you're behind a NAT.\n",
    "    #handler.masquerade_address = IP\n",
    "    handler.passive_ports = range(60000, 65535)\n",
    "\n",
    "    # Instantiate FTP server class and listen on 127.0.0.1:21\n",
    "    address = (IP, 21)\n",
    "    server = FTPServer(address, handler)\n",
    "\n",
    "    # set a limit for connections\n",
    "    server.max_cons = 256\n",
    "    server.max_cons_per_ip = 5\n",
    "    \n",
    "    # start ftp server\n",
    "    server.serve_forever()"
   ]
  },
  {
   "cell_type": "code",
   "execution_count": null,
   "metadata": {},
   "outputs": [],
   "source": [
    "if __name__ == '__main__':\n",
    "    main()"
   ]
  },
  {
   "cell_type": "code",
   "execution_count": null,
   "metadata": {},
   "outputs": [],
   "source": []
  }
 ],
 "metadata": {
  "kernelspec": {
   "display_name": "Python 3",
   "language": "python",
   "name": "python3"
  },
  "language_info": {
   "codemirror_mode": {
    "name": "ipython",
    "version": 3
   },
   "file_extension": ".py",
   "mimetype": "text/x-python",
   "name": "python",
   "nbconvert_exporter": "python",
   "pygments_lexer": "ipython3",
   "version": "3.5.5"
  }
 },
 "nbformat": 4,
 "nbformat_minor": 2
}
