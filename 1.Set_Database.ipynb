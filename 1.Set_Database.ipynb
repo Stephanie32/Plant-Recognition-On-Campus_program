{
 "cells": [
  {
   "cell_type": "code",
   "execution_count": 1,
   "metadata": {},
   "outputs": [
    {
     "name": "stderr",
     "output_type": "stream",
     "text": [
      "C:\\Users\\Stephanie\\Anaconda3\\envs\\tensorflow\\lib\\site-packages\\h5py\\__init__.py:36: FutureWarning: Conversion of the second argument of issubdtype from `float` to `np.floating` is deprecated. In future, it will be treated as `np.float64 == np.dtype(float).type`.\n",
      "  from ._conv import register_converters as _register_converters\n"
     ]
    }
   ],
   "source": [
    "import os\n",
    "import math\n",
    "from PIL import Image\n",
    "import numpy as np\n",
    "import h5py"
   ]
  },
  {
   "cell_type": "code",
   "execution_count": 2,
   "metadata": {},
   "outputs": [],
   "source": [
    "data=[]"
   ]
  },
  {
   "cell_type": "code",
   "execution_count": 3,
   "metadata": {},
   "outputs": [],
   "source": [
    "#rotate_time=360/rotate_angle\n",
    "rotate_angle=20\n",
    "rotate_time=18"
   ]
  },
  {
   "cell_type": "code",
   "execution_count": 4,
   "metadata": {},
   "outputs": [],
   "source": [
    "#Train database\n",
    "label=0\n",
    "for dirname in os.listdir(\"C:\\pythonwork\\leaf\\\\Train\"):\n",
    "    for imgname in os.listdir(\"C:\\pythonwork\\leaf\\\\Train\\\\\" + dirname):\n",
    "        img = Image.open(\"C:\\pythonwork\\leaf\\\\Train\\\\\" + dirname + \"\\\\\" +imgname)\n",
    "    \n",
    "        #4032*3024 to 252*189\n",
    "        img = img.resize((252, 189)) \n",
    "        (img_x,img_y)=img.size\n",
    "\n",
    "        #100*100\n",
    "        x = (img_x-100)/2\n",
    "        y = (img_y-100)/2\n",
    "        w = 100\n",
    "        h = 100\n",
    "        ima = img.crop((x, y, x+w, y+h))\n",
    "        \n",
    "        r2 = 100 #diameter=100\n",
    "        imb = Image.new('RGB', (r2, r2),(0))\n",
    "        pima = ima.load()\n",
    "        pimb = imb.load()\n",
    "        r = float(r2/2) \n",
    "        for i in range(r2):\n",
    "            for j in range(r2):\n",
    "                lx = abs(i-r+0.5)\n",
    "                ly = abs(j-r+0.5)\n",
    "                l  = pow(lx,2) + pow(ly,2)\n",
    "                if l <= pow(r, 2):\n",
    "                    pimb[i,j] = pima[i,j]\n",
    "\n",
    "        j=0\n",
    "        for i in range(0,rotate_time):    \n",
    "            imb_temp = imb.rotate(j)\n",
    "            arr = np.asarray(imb_temp, dtype = np.float32)\n",
    "            arr_flo = arr/255\n",
    "            arr_flo[0,0,0]=label\n",
    "            data.append(arr_flo)\n",
    "            j=j+rotate_angle\n",
    "\n",
    "        imb = imb.transpose(Image.FLIP_LEFT_RIGHT) #Mirror\n",
    "\n",
    "        j=0\n",
    "        for i in range(0,rotate_time):   \n",
    "            imb_temp = imb.rotate(j)\n",
    "            arr = np.asarray(imb_temp, dtype = np.float32)\n",
    "            arr_flo = arr/255\n",
    "            arr_flo[0,0,0]=label\n",
    "            data.append(arr_flo)\n",
    "            j=j+rotate_angle\n",
    "        \n",
    "        \n",
    "    label += 1"
   ]
  },
  {
   "cell_type": "code",
   "execution_count": 5,
   "metadata": {},
   "outputs": [],
   "source": [
    "#set up h5 file\n",
    "f = h5py.File('data_train.h5', 'w')\n",
    "f['feature+label'] = data\n",
    "f.close()"
   ]
  },
  {
   "cell_type": "code",
   "execution_count": 6,
   "metadata": {},
   "outputs": [],
   "source": [
    "import random\n",
    "random.shuffle(data)"
   ]
  },
  {
   "cell_type": "code",
   "execution_count": 7,
   "metadata": {},
   "outputs": [],
   "source": [
    "#Use to train\n",
    "f = h5py.File('data_train_shuffle.h5', 'w')\n",
    "f['feature+label'] = data\n",
    "f.close()"
   ]
  },
  {
   "cell_type": "code",
   "execution_count": null,
   "metadata": {},
   "outputs": [],
   "source": [
    "#Test database\n",
    "label=0\n",
    "for dirname in os.listdir(\"C:\\pythonwork\\leaf\\\\Test\"):\n",
    "    for imgname in os.listdir(\"C:\\pythonwork\\leaf\\\\Test\\\\\" + dirname):\n",
    "        img = Image.open(\"C:\\pythonwork\\leaf\\\\Test\\\\\" + dirname + \"\\\\\" +imgname)\n",
    "    \n",
    "        #4032*3024 to 252*189\n",
    "        img = img.resize((252, 189)) \n",
    "        (img_x,img_y)=img.size\n",
    "\n",
    "        #100*100\n",
    "        x = (img_x-100)/2\n",
    "        y = (img_y-100)/2\n",
    "        w = 100\n",
    "        h = 100\n",
    "        ima = img.crop((x, y, x+w, y+h))\n",
    "        \n",
    "        r2 = 100 #diameter=100\n",
    "        imb = Image.new('RGB', (r2, r2),(0))\n",
    "        pima = ima.load()\n",
    "        pimb = imb.load()\n",
    "        r = float(r2/2)\n",
    "        for i in range(r2):\n",
    "            for j in range(r2):\n",
    "                lx = abs(i-r+0.5)\n",
    "                ly = abs(j-r+0.5)\n",
    "                l  = pow(lx,2) + pow(ly,2)\n",
    "                if l <= pow(r, 2):\n",
    "                    pimb[i,j] = pima[i,j]\n",
    "\n",
    "        j=0\n",
    "        for i in range(0,rotate_time):       \n",
    "            imb_temp = imb.rotate(j)\n",
    "            arr = np.asarray(imb_temp, dtype = np.float32)\n",
    "            arr_flo = arr/255\n",
    "            arr_flo[0,0,0]=label\n",
    "            data.append(arr_flo)\n",
    "            j=j+rotate_angle\n",
    "\n",
    "        imb = imb.transpose(Image.FLIP_LEFT_RIGHT) #Mirror\n",
    "\n",
    "        j=0\n",
    "        for i in range(0,rotate_time):\n",
    "            imb_temp = imb.rotate(j)\n",
    "            arr = np.asarray(imb_temp, dtype = np.float32)\n",
    "            arr_flo = arr/255\n",
    "            arr_flo[0,0,0]=label\n",
    "            data.append(arr_flo)\n",
    "            j=j+rotate_angle\n",
    "        \n",
    "        \n",
    "    label += 1"
   ]
  }
 ],
 "metadata": {
  "kernelspec": {
   "display_name": "Python 3",
   "language": "python",
   "name": "python3"
  },
  "language_info": {
   "codemirror_mode": {
    "name": "ipython",
    "version": 3
   },
   "file_extension": ".py",
   "mimetype": "text/x-python",
   "name": "python",
   "nbconvert_exporter": "python",
   "pygments_lexer": "ipython3",
   "version": "3.5.5"
  }
 },
 "nbformat": 4,
 "nbformat_minor": 2
}
